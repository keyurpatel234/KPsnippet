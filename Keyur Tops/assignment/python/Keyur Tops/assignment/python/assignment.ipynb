{
 "cells": [
  {
   "cell_type": "code",
   "execution_count": null,
   "id": "38d9d811-10ba-4e53-bb46-763af188507e",
   "metadata": {},
   "outputs": [],
   "source": [
    "# 1) What are the types of Applications? \n",
    "1.Web Applications\n",
    "Frameworks: Django, Flask\n",
    "Example: Instagram (Django)\n",
    "\n",
    "2.Desktop GUI Applications\n",
    "Libraries: Tkinter, PyQt\n",
    "Example: Dropbox\n",
    "\n",
    "3.Console Applications\n",
    "Libraries: argparse, click\n",
    "Example: pip (Python's package manager)\n",
    "\n",
    "4.Game Development\n",
    "Libraries: pygame\n",
    "Example: Frets on Fire\n",
    "\n",
    "5.Data Science & Machine Learning\n",
    "Libraries: NumPy, pandas, TensorFlow\n",
    "Example: Netflix’s recommendation system\n",
    "\n",
    "6.Network & Scripting Applications\n",
    "Libraries: socket, requests\n",
    "Example: Network monitoring tools\n",
    "\n",
    "7.Embedded Applications\n",
    "Libraries: MicroPython\n",
    "Example: IoT projects with Raspberry Pi"
   ]
  },
  {
   "cell_type": "code",
   "execution_count": null,
   "id": "a52d8429-4149-4bf2-832d-57d29025f63c",
   "metadata": {},
   "outputs": [],
   "source": [
    "# 2) What is programing? \n",
    "->> Programming is the process of writing instructions (code) that a computer can understand and execute. It involves\n",
    "using programming languages (like Python, C++, or Java) to create software, solve problems, and automate tasks."
   ]
  },
  {
   "cell_type": "code",
   "execution_count": null,
   "id": "5ea08339-7049-4b09-8370-0ddcc5de2a05",
   "metadata": {},
   "outputs": [],
   "source": [
    "# 3) What is Python? \n",
    "->> Python is a type of computer language that is easy to read and write. It helps people create all kinds of programs, \n",
    "    like websites, games, and apps. Python is popular because it is simple to learn and can be used for many different\n",
    "    jobs like data analysis, automation, and even machine learning."
   ]
  },
  {
   "cell_type": "code",
   "execution_count": 5,
   "id": "79b2bd51-b1d9-4da2-af73-e0e4cad870d8",
   "metadata": {},
   "outputs": [
    {
     "name": "stdin",
     "output_type": "stream",
     "text": [
      "input enter number here 0\n"
     ]
    },
    {
     "name": "stdout",
     "output_type": "stream",
     "text": [
      "number is zero\n"
     ]
    }
   ],
   "source": [
    "# 4 - Write a Python program to check if a number is positive, negative or zero\n",
    "a=int(input(\"input enter number here\"))\n",
    "if a==0:\n",
    "    print(\"number is zero\")\n",
    "elif a>0:\n",
    "    print(\"number is positive\")\n",
    "else:\n",
    "    print(\"number is negetive\")"
   ]
  },
  {
   "cell_type": "code",
   "execution_count": 13,
   "id": "afa118fb-588e-4272-88be-b40f8e23e793",
   "metadata": {},
   "outputs": [
    {
     "name": "stdin",
     "output_type": "stream",
     "text": [
      "enter your number here 5\n"
     ]
    },
    {
     "name": "stdout",
     "output_type": "stream",
     "text": [
      "120\n"
     ]
    }
   ],
   "source": [
    "# 5- Write a Python program to get the Factorial number of given numbers. \n",
    "i=int(input(\"enter your number here\"))\n",
    "fact=1\n",
    "for a in range(1,i+1):\n",
    "    fact*=a\n",
    "print(fact)"
   ]
  },
  {
   "cell_type": "code",
   "execution_count": 41,
   "id": "4cef6dfd-7080-489c-a9c2-e62d69341543",
   "metadata": {},
   "outputs": [
    {
     "name": "stdin",
     "output_type": "stream",
     "text": [
      "enter your number here 4\n"
     ]
    },
    {
     "name": "stdout",
     "output_type": "stream",
     "text": [
      "0\n",
      "1\n",
      "1\n",
      "2\n",
      "3\n",
      "5\n",
      "8\n"
     ]
    }
   ],
   "source": [
    "#6 -Write a Python program to get the Fibonacci series of given range\n",
    "a=0\n",
    "b=1\n",
    "i=int(input (\"enter your number here\"))\n",
    "if i==1:\n",
    "    print(a)\n",
    "else:\n",
    "    print(a)\n",
    "    print(b)\n",
    "    for z in range(1,i+1):\n",
    "        c=a+b\n",
    "        a=b\n",
    "        b=c\n",
    "        print(c)  "
   ]
  },
  {
   "cell_type": "code",
   "execution_count": null,
   "id": "bff3a918-0514-4ccf-a77e-1fe1ddc54b1f",
   "metadata": {},
   "outputs": [],
   "source": [
    "# 7)How memory is managed in Python?\n",
    "-->Python automatically manages memory. It uses Garbage Collection to remove unused objects and free up memory. \n",
    "Python’s memory manager handles all of this in the background, so you don’t have to worry about it."
   ]
  },
  {
   "cell_type": "code",
   "execution_count": null,
   "id": "d1164b97-860d-4250-a8b5-2d0103323ab0",
   "metadata": {},
   "outputs": [],
   "source": [
    "# 8)What is the purpose continuing statement in python? \n",
    "-->The continue statement is used inside loops (like for and while). When Python reaches a continue statement, \n",
    "   it skips the rest of the code in that loop iteration and moves to the next iteration. This is useful when you want\n",
    "   to skip certain items without stopping the entire loop."
   ]
  },
  {
   "cell_type": "code",
   "execution_count": 53,
   "id": "c91f1338-5c64-4b95-89ae-5be253638881",
   "metadata": {},
   "outputs": [
    {
     "name": "stdin",
     "output_type": "stream",
     "text": [
      "enter the number here 1\n",
      "enter the number here 2\n"
     ]
    },
    {
     "name": "stdout",
     "output_type": "stream",
     "text": [
      "a: 2\n",
      "b: 1\n"
     ]
    },
    {
     "name": "stdin",
     "output_type": "stream",
     "text": [
      "enter your number here 1\n",
      "enter your number here 2\n"
     ]
    },
    {
     "name": "stdout",
     "output_type": "stream",
     "text": [
      "a: 2\n",
      "b: 1\n"
     ]
    }
   ],
   "source": [
    "# 9 - Write python program that swap two number with temp variable and without temp variable. \n",
    "a=int(input(\"enter the number here\"))\n",
    "b=int(input(\"enter the number here\"))\n",
    "temp=a\n",
    "a=b\n",
    "b=temp\n",
    "print(\"a:\",a)\n",
    "print(\"b:\",b)\n",
    "\n",
    "#without temp variable\n",
    "a=int(input(\"enter your number here\"))\n",
    "b=int(input(\"enter your number here\"))\n",
    "a,b=b,a\n",
    "print(\"a:\",a)\n",
    "print(\"b:\",b)"
   ]
  },
  {
   "cell_type": "code",
   "execution_count": 59,
   "id": "aded1d21-8c3c-4e10-a5fc-81e6a59d9ade",
   "metadata": {},
   "outputs": [
    {
     "name": "stdin",
     "output_type": "stream",
     "text": [
      "enter your number here 10\n"
     ]
    },
    {
     "name": "stdout",
     "output_type": "stream",
     "text": [
      "This number 10 is even number\n"
     ]
    }
   ],
   "source": [
    "# 10 -Write python program that swap two number with temp variable and without temp variable. \n",
    "a=int(input(\"enter your number here\"))\n",
    "if a%2==0:\n",
    "    print(f\"This number {a} is even number\")\n",
    "else:\n",
    "    print(f\"This number {a} is odd number\")"
   ]
  },
  {
   "cell_type": "code",
   "execution_count": 65,
   "id": "bad6f519-976f-4175-b73b-e7f925dba647",
   "metadata": {},
   "outputs": [
    {
     "name": "stdin",
     "output_type": "stream",
     "text": [
      "enter the string here keyur\n"
     ]
    },
    {
     "name": "stdout",
     "output_type": "stream",
     "text": [
      "this letter is vowel\n"
     ]
    }
   ],
   "source": [
    "# 11 -Write a Python program to test whether a passed letter is a vowel or not. \n",
    "v=\"AEIOUaeiou\"\n",
    "i=input(\"enter the string here\")\n",
    "if v in i:\n",
    "    print(\"this letter is vowel\")\n",
    "else:\n",
    "    print(\"this letter is vowel\")"
   ]
  },
  {
   "cell_type": "code",
   "execution_count": 75,
   "id": "56cf4616-f3fb-4cc8-9727-51bba9ac238f",
   "metadata": {},
   "outputs": [
    {
     "name": "stdin",
     "output_type": "stream",
     "text": [
      "enter your number here 1\n",
      "enter your number here 2\n",
      "enter your number here 2\n"
     ]
    },
    {
     "name": "stdout",
     "output_type": "stream",
     "text": [
      "0\n"
     ]
    }
   ],
   "source": [
    "#12 - Write a Python program to sum of three given integers. However, if two values are equal sum will be zero\n",
    "a=int(input(\"enter your number here\"))\n",
    "b=int(input(\"enter your number here\"))\n",
    "c=int(input(\"enter your number here\"))\n",
    "sum=0\n",
    "if a==b or b==c or c==a:\n",
    "    print(sum)\n",
    "else:\n",
    "    print(\"sum =\",a+b+c)"
   ]
  },
  {
   "cell_type": "code",
   "execution_count": 86,
   "id": "aa2dce94-f083-4888-a106-5f43fd8ae39b",
   "metadata": {},
   "outputs": [
    {
     "name": "stdin",
     "output_type": "stream",
     "text": [
      "enter your number here 1\n",
      "enter your number here 1\n"
     ]
    },
    {
     "name": "stdout",
     "output_type": "stream",
     "text": [
      "True\n"
     ]
    }
   ],
   "source": [
    "#13 -Write a Python program that will return true if the two given integer values are equal or their sum or difference is 5. \n",
    "a=int(input(\"enter your number here\"))\n",
    "b=int(input(\"enter your number here\"))\n",
    "if a==b or a+b==5 or a-b==5:\n",
    "    result = True\n",
    "else:\n",
    "    result = False\n",
    "print(result)"
   ]
  },
  {
   "cell_type": "code",
   "execution_count": 100,
   "id": "c3bf720d-f513-4ae6-923f-9196410b857f",
   "metadata": {},
   "outputs": [
    {
     "name": "stdin",
     "output_type": "stream",
     "text": [
      "enter your number here 5\n"
     ]
    },
    {
     "name": "stdout",
     "output_type": "stream",
     "text": [
      "15\n"
     ]
    }
   ],
   "source": [
    "# 14)Write a python program to sum of the first n positive integers\n",
    "n=int(input(\"enter your number here\"))\n",
    "sum=0\n",
    "\n",
    "for i in range(1,n+1):\n",
    "    sum+=i\n",
    "print(sum)\n"
   ]
  },
  {
   "cell_type": "code",
   "execution_count": 106,
   "id": "6f3765dc-03a4-47f9-9ac1-faf3221cdd30",
   "metadata": {},
   "outputs": [
    {
     "name": "stdin",
     "output_type": "stream",
     "text": [
      "enter string here my name is keyur patel\n"
     ]
    },
    {
     "name": "stdout",
     "output_type": "stream",
     "text": [
      "22\n"
     ]
    }
   ],
   "source": [
    "# 15)Write a Python program to calculate the length of a string. \n",
    "a=input(\"enter string here\")\n",
    "print(len(a))"
   ]
  },
  {
   "cell_type": "code",
   "execution_count": 108,
   "id": "4752723c-fbf7-43c8-82c3-2fde9e8f04fa",
   "metadata": {},
   "outputs": [
    {
     "name": "stdin",
     "output_type": "stream",
     "text": [
      "enter your string here hii i am keyur patel\n"
     ]
    },
    {
     "name": "stdout",
     "output_type": "stream",
     "text": [
      "{'h': 1, 'i': 3, ' ': 4, 'a': 2, 'm': 1, 'k': 1, 'e': 2, 'y': 1, 'u': 1, 'r': 1, 'p': 1, 't': 1, 'l': 1}\n"
     ]
    }
   ],
   "source": [
    "# 16) Write a Python program to count the number of characters (character frequency) in a string \n",
    "a=input(\"enter your string here\")\n",
    "d={}\n",
    "for i in a:\n",
    "    if i in d:\n",
    "        d[i]+=1\n",
    "    else:\n",
    "        d[i]=1\n",
    "print(d)"
   ]
  },
  {
   "cell_type": "code",
   "execution_count": null,
   "id": "26de2946-49ae-4fbd-882f-76bc19b3e30d",
   "metadata": {},
   "outputs": [],
   "source": [
    "# 17)What are negative indexes and why are they used? \n",
    "-->Negative indexes let you access items from the end of a list or string.\n",
    "Ex: In the list fruits = [\"apple\", \"banana\", \"cherry\"], fruits[-1] gives you \"cherry\" (the last item).\n",
    "Why Use Them?\n",
    "-->They make it easy to get the last items without counting how many there are.\n"
   ]
  },
  {
   "cell_type": "code",
   "execution_count": 1,
   "id": "04772312-8f4f-4106-a9ae-15bedd8cb6c5",
   "metadata": {},
   "outputs": [
    {
     "name": "stdout",
     "output_type": "stream",
     "text": [
      "2\n"
     ]
    }
   ],
   "source": [
    "# 18)Write a Python program to count occurrences of a substring in a string\n",
    "s=\"my name is keyurpatel\"\n",
    "a=s.count(\"a\")\n",
    "print(a)"
   ]
  },
  {
   "cell_type": "code",
   "execution_count": 13,
   "id": "205e549e-d6a5-400a-b988-de476bedfed5",
   "metadata": {},
   "outputs": [
    {
     "name": "stdout",
     "output_type": "stream",
     "text": [
      "{'the': 3, 'quick': 1, 'brown': 1, 'fox': 1, 'jumps': 1, 'over': 1, 'lazy': 1, 'dog': 2, 'and': 1, 'barks': 1}\n"
     ]
    }
   ],
   "source": [
    "# 19) Write a Python program to count the occurrences of each word in a given sentence\n",
    "s=\"the quick brown fox jumps over the lazy dog and the dog barks\"\n",
    "l=s.split()\n",
    "d={}\n",
    "for i in l:\n",
    "    if i in d:\n",
    "        d[i]+=1\n",
    "    else:\n",
    "        d[i]=1\n",
    "print(d)"
   ]
  },
  {
   "cell_type": "code",
   "execution_count": 19,
   "id": "0709ebce-5e73-4b5b-9169-5143935facb2",
   "metadata": {},
   "outputs": [
    {
     "name": "stdin",
     "output_type": "stream",
     "text": [
      "enter string here hello\n",
      "ener string here world\n"
     ]
    },
    {
     "name": "stdout",
     "output_type": "stream",
     "text": [
      "wollo herld\n"
     ]
    }
   ],
   "source": [
    "# 20) Write a Python program to get a single string from two given strings,separated by a space and swap the first two characters of each string. \n",
    "a=input(\"enter string here\")\n",
    "b=input(\"ener string here\")\n",
    "result=b[:2]+a[2:]+\" \"+a[:2]+b[2:]\n",
    "print(result)"
   ]
  },
  {
   "cell_type": "code",
   "execution_count": 29,
   "id": "59f08d2f-689c-423f-9720-c045cd6f333d",
   "metadata": {},
   "outputs": [
    {
     "name": "stdin",
     "output_type": "stream",
     "text": [
      "enterr the string here hello\n"
     ]
    },
    {
     "name": "stdout",
     "output_type": "stream",
     "text": [
      "helloing\n"
     ]
    }
   ],
   "source": [
    "# 21) Write a Python program to add 'in' at the end of a given string (lengthshould be at least 3). If the given string already ends with 'ing' then add 'ly' instead if the string length of the given string is less than 3,leave it unchanged. \n",
    "s=input(\"enterr the string here\")\n",
    "if len(s)<3:\n",
    "    print(s)\n",
    "elif s.endswith(\"ing\"):\n",
    "    print(s+\"ly\")\n",
    "else:\n",
    "    print(s+\"ing\")"
   ]
  },
  {
   "cell_type": "code",
   "execution_count": 35,
   "id": "7d97730d-2297-4e3a-a644-016eb1092658",
   "metadata": {},
   "outputs": [
    {
     "name": "stdin",
     "output_type": "stream",
     "text": [
      "enter your string here hell\n"
     ]
    },
    {
     "name": "stdout",
     "output_type": "stream",
     "text": [
      "lleh\n"
     ]
    }
   ],
   "source": [
    "# 22) Write a Python function to reverses a string if its length is a multiple of 4\n",
    "s=input(\"enter your string here\")\n",
    "if len(s)%4==0:\n",
    "    print(s[::-1])\n",
    "else:\n",
    "    print(s)"
   ]
  },
  {
   "cell_type": "code",
   "execution_count": 45,
   "id": "c53b3c93-9509-4556-a588-1c455d30b6fe",
   "metadata": {},
   "outputs": [
    {
     "name": "stdin",
     "output_type": "stream",
     "text": [
      "enter the string here hi\n"
     ]
    },
    {
     "name": "stdout",
     "output_type": "stream",
     "text": [
      "hihi\n"
     ]
    }
   ],
   "source": [
    "# 23) Write a Python program to get a string made of the first 2 and the last2 chars from a given a string. If the string length is less than 2, return instead of the empty string.\n",
    "s=input(\"enter the string here\")\n",
    "if len(s)<2:\n",
    "    print(\"\")\n",
    "else:\n",
    "    print(s[:2]+s[-2:])"
   ]
  },
  {
   "cell_type": "code",
   "execution_count": 51,
   "id": "bdc60fc9-4a3d-48f4-b0a1-c739f2b79e96",
   "metadata": {},
   "outputs": [
    {
     "name": "stdin",
     "output_type": "stream",
     "text": [
      "enter the main string here hello\n",
      "enter the instert string here code\n"
     ]
    },
    {
     "name": "stdout",
     "output_type": "stream",
     "text": [
      "hecodello\n"
     ]
    }
   ],
   "source": [
    "# 24)Write a Python function to insert a string in the middle of a string\n",
    "o_s=input(\"enter the main string here\")\n",
    "i_s=input(\"enter the instert string here\")\n",
    "m_i=len(o_s)//2\n",
    "result=o_s[:m_i]+i_s+o_s[m_i:]\n",
    "print(result)"
   ]
  },
  {
   "cell_type": "code",
   "execution_count": null,
   "id": "a63b4fcc-8a2d-434e-b2aa-01e5ae5cc12c",
   "metadata": {},
   "outputs": [],
   "source": [
    "# 25)What is List? How will you reverse a list? \n",
    "-->    A list in Python is a collection of items stored in a single variable. You can have different types of data in a \n",
    "       list, like numbers, strings, or even other lists\n",
    "   How to Reverse a List?\n",
    "       You can reverse a list using the reverse() method or by using slicing.\n",
    "       fruits = [\"apple\", \"banana\", \"cherry\"] \n",
    "       reversed_fruits = fruits[::-1]  #this creates a reversed list\n",
    "       "
   ]
  },
  {
   "cell_type": "code",
   "execution_count": null,
   "id": "2096d465-3665-4d1a-9c35-7e2519240ec9",
   "metadata": {},
   "outputs": [],
   "source": [
    "# 26)How will you remove last object from a list?\n",
    "    --> To remove the last object from a list in Python, you can use the pop() method without specifying an index, \n",
    "        as it defaults to removing the last element\n",
    "        l = [1, 2, 3, 4]\n",
    "        l.pop()  \n",
    "        print(l) #it removes last element"
   ]
  },
  {
   "cell_type": "code",
   "execution_count": null,
   "id": "93868cb2-18d9-45c2-9052-654a46bed6a1",
   "metadata": {},
   "outputs": [],
   "source": [
    "27)Suppose list1 is [2, 33, 222, 14, and 25], what is list1 [-1]? \n",
    "   -->list1[-1] is 25"
   ]
  },
  {
   "cell_type": "code",
   "execution_count": null,
   "id": "777c5224-d85c-4833-8a3d-af974a046698",
   "metadata": {},
   "outputs": [],
   "source": [
    "# 28)Differentiate between append () and extend () methods?\n",
    "    -->append() adds a single element to the end of a list, while extend() adds multiple elements (from an iterable)\n",
    "    to the end of a list."
   ]
  },
  {
   "cell_type": "code",
   "execution_count": 55,
   "id": "667effc6-8dd9-4297-9207-2562251e0434",
   "metadata": {},
   "outputs": [
    {
     "name": "stdout",
     "output_type": "stream",
     "text": [
      "max no is 90\n",
      "smallest no is 10\n",
      "sum of no is 300\n"
     ]
    }
   ],
   "source": [
    "# 29) Write a Python function to get the largest number, smallest num and sum of all from a list.\n",
    "l=[10,20,35,40,20,85,90]\n",
    "print(\"max no is\",max(l))\n",
    "print(\"smallest no is\",min(l))\n",
    "print(\"sum of no is\",sum(l))"
   ]
  },
  {
   "cell_type": "code",
   "execution_count": 57,
   "id": "44edbddd-b25d-4be6-bbd9-b9cc01956e06",
   "metadata": {},
   "outputs": [
    {
     "name": "stdout",
     "output_type": "stream",
     "text": [
      "True\n"
     ]
    }
   ],
   "source": [
    "# 30)How will you compare two lists?\n",
    "l1=[10,20,30,40,50]\n",
    "l2=[10,20,30,40,50]\n",
    "print(l1==l2)"
   ]
  },
  {
   "cell_type": "code",
   "execution_count": 7,
   "id": "10a3b4b8-f975-4eda-af42-424bb915eaf7",
   "metadata": {},
   "outputs": [
    {
     "name": "stdout",
     "output_type": "stream",
     "text": [
      "4\n"
     ]
    }
   ],
   "source": [
    "# 31)Write a Python program to count the number of strings where the string length is 2 or more and the first and last character are same from a given list of strings.\n",
    "l=[\"aa\",\"aba\",\"abc\",\"1221\",\"afc\",\"cdc\"]\n",
    "count=0\n",
    "for i in l:\n",
    "    if len(i)>=2 and i[0]==i[-1]:\n",
    "        count+=1\n",
    "print(count)"
   ]
  },
  {
   "cell_type": "code",
   "execution_count": 9,
   "id": "23cca01f-8a66-46fc-8be7-ddb17dcef742",
   "metadata": {},
   "outputs": [
    {
     "name": "stdout",
     "output_type": "stream",
     "text": [
      "[40, 10, 50, 20, 30]\n"
     ]
    }
   ],
   "source": [
    "# 32)Write a Python program to remove duplicates from a list.\n",
    "l=[10,20,10,40,50,30,20]\n",
    "print(list(set(l)))"
   ]
  },
  {
   "cell_type": "code",
   "execution_count": 17,
   "id": "ea94e931-0905-485b-9acc-8c26284aeba9",
   "metadata": {},
   "outputs": [
    {
     "name": "stdout",
     "output_type": "stream",
     "text": [
      "list is empty\n"
     ]
    }
   ],
   "source": [
    "# 33)Write a Python program to check a list is empty or not\n",
    "l=[]\n",
    "if not l:\n",
    "    print(\"list is empty\")\n",
    "else:\n",
    "    print(\"list contain elements\")"
   ]
  },
  {
   "cell_type": "code",
   "execution_count": 23,
   "id": "eb2ea59a-34bf-40a7-a636-fa7d74d0959a",
   "metadata": {},
   "outputs": [
    {
     "name": "stdout",
     "output_type": "stream",
     "text": [
      "list has a common number is 10\n"
     ]
    }
   ],
   "source": [
    "# 34) Write a Python function that takes two lists and returns true if they have at least one common member.\n",
    "l1=[10,20,30,40,50]\n",
    "l2=[21,10,41,51,61]\n",
    "for i in l1:\n",
    "    if i in l2:\n",
    "        print(f\"list has a common number is {i}\")"
   ]
  },
  {
   "cell_type": "code",
   "execution_count": 11,
   "id": "02df3f56-8508-43dd-ba6f-89b87fa21bc4",
   "metadata": {},
   "outputs": [
    {
     "name": "stdout",
     "output_type": "stream",
     "text": [
      "first_five: [1, 4, 9, 16, 25]\n",
      "last_five: [676, 729, 784, 841, 900]\n"
     ]
    }
   ],
   "source": [
    "# 35) Write a Python program to generate and print a list of first and last 5 elements where the values are square of numbers between 1 and 30\n",
    "l=[]\n",
    "for i in range(1,31):\n",
    "    l.append(i**2)\n",
    "print(\"first_five:\",l[:5])\n",
    "print(\"last_five:\",l[-5:])"
   ]
  },
  {
   "cell_type": "code",
   "execution_count": 13,
   "id": "fb777b6b-6b55-48ac-9a45-3c761cb9e81a",
   "metadata": {},
   "outputs": [
    {
     "data": {
      "text/plain": [
       "[1, 2, 3, 4, 5]"
      ]
     },
     "execution_count": 13,
     "metadata": {},
     "output_type": "execute_result"
    }
   ],
   "source": [
    "#36)Write a Python function that takes a list and returns a new list with unique elements of the first list.\n",
    "# l=[1, 2, 2, 3, 4, 4, 5]\n",
    "def unq_lst(x):\n",
    "    return list(set(x))\n",
    "unq_lst([1, 2, 2, 3, 4, 4, 5])"
   ]
  },
  {
   "cell_type": "code",
   "execution_count": 15,
   "id": "884e262e-b95e-45d6-bf5a-e3dce1fab3d9",
   "metadata": {},
   "outputs": [
    {
     "name": "stdout",
     "output_type": "stream",
     "text": [
      "Hello\n"
     ]
    }
   ],
   "source": [
    "# 37)Write a Python program to convert a list of characters into a string\n",
    "char_list = ['H', 'e', 'l', 'l', 'o']\n",
    "s=\"\".join(char_list)\n",
    "print(s)"
   ]
  },
  {
   "cell_type": "code",
   "execution_count": 17,
   "id": "e68ef74f-a295-49e4-a94b-ac71a6528163",
   "metadata": {},
   "outputs": [
    {
     "name": "stdout",
     "output_type": "stream",
     "text": [
      "30\n"
     ]
    }
   ],
   "source": [
    "# 38)Write a Python program to select an item randomly from a list\n",
    "my_list = [10, 20, 30, 40, 50]\n",
    "import random\n",
    "r=random.choice(my_list)\n",
    "print(r)\n"
   ]
  },
  {
   "cell_type": "code",
   "execution_count": 8,
   "id": "b51dfc46-06d3-41cd-a846-d41211b79149",
   "metadata": {},
   "outputs": [
    {
     "name": "stdout",
     "output_type": "stream",
     "text": [
      "8\n"
     ]
    }
   ],
   "source": [
    "# 39)Write a Python program to find the second smallest number in a list.\n",
    "my_list = [12, 5, 7, 1, 3, 5, 8]\n",
    "my_list.sort()\n",
    "print(my_list[-2])\n",
    "# print(\"the second smallest number is:\",s[-2])"
   ]
  },
  {
   "cell_type": "code",
   "execution_count": 10,
   "id": "cd26f7a6-708c-4d52-981e-49426935e45e",
   "metadata": {},
   "outputs": [
    {
     "name": "stdout",
     "output_type": "stream",
     "text": [
      "[1, 2, 3, 4, 5, 6]\n"
     ]
    }
   ],
   "source": [
    "# 40)Write a Python program to get unique values from a list \n",
    "unq_list = [1, 2, 2, 3, 4, 4, 5, 5, 6]\n",
    "s=list(set(unq_list))\n",
    "print(s)"
   ]
  },
  {
   "cell_type": "code",
   "execution_count": 12,
   "id": "c9bdb055-7093-4d5e-91a8-73986d656331",
   "metadata": {},
   "outputs": [
    {
     "name": "stdout",
     "output_type": "stream",
     "text": [
      "no l1 is not containing l2\n",
      "no l1 is not containing l2\n",
      "no l1 is not containing l2\n",
      "no l1 is not containing l2\n",
      "no l1 is not containing l2\n"
     ]
    }
   ],
   "source": [
    "# 41)Write a Python program to check whether a list contains a sub list\n",
    "l1=[1,2,3,4,5]\n",
    "l2=[2,3,4]\n",
    "for i in l1:\n",
    "    if l2 in l1:\n",
    "        print(\"yes l1 contain a l2\")\n",
    "    else:\n",
    "        print(\"no l1 is not containing l2\")\n",
    "\n",
    "\n",
    "\n"
   ]
  },
  {
   "cell_type": "code",
   "execution_count": 22,
   "id": "22a3b69e-7b4f-43ab-9ba9-ac235f17f495",
   "metadata": {},
   "outputs": [
    {
     "name": "stdout",
     "output_type": "stream",
     "text": [
      "first element: 10\n",
      "second element: 20\n",
      "third element: 30\n",
      "fourth element: 40\n"
     ]
    }
   ],
   "source": [
    "# 42)Write a Python program to split a list into different variables. \n",
    "lst=[10, 20, 30, 40]\n",
    "a,b,c,d=lst\n",
    "print(\"first element:\",a)\n",
    "print(\"second element:\",b)\n",
    "print(\"third element:\",c)\n",
    "print(\"fourth element:\",d)"
   ]
  },
  {
   "cell_type": "code",
   "execution_count": 24,
   "id": "764bef25-6639-4f2f-8ec6-de1d8649374c",
   "metadata": {},
   "outputs": [],
   "source": [
    "# 43)What is tuple? Difference between list and tuple\n",
    "    -->Tuple: An immutable sequence of elements, similar to a list but cannot be modified once created.\n",
    "    Differences:\n",
    "    \n",
    "    1)Mutability: Lists are mutable (can be changed), while tuples are immutable.\n",
    "    2)Performance: Tuples are generally faster to access and iterate over than lists.\n",
    "    3)Use cases: Tuples are often used for representing fixed data structures (e.g., coordinates, database records), \n",
    "                 while lists are more flexible for dynamic data."
   ]
  },
  {
   "cell_type": "code",
   "execution_count": 26,
   "id": "805d7763-44de-4813-9b78-1c68c662d929",
   "metadata": {},
   "outputs": [
    {
     "name": "stdout",
     "output_type": "stream",
     "text": [
      "(1, 'hello', 3.14, True, [1, 2, 3])\n"
     ]
    }
   ],
   "source": [
    "# 44)Write a Python program to create a tuple with different data types.\n",
    "my_tuple = (1, \"hello\", 3.14, True, [1, 2, 3])\n",
    "print(my_tuple)"
   ]
  },
  {
   "cell_type": "code",
   "execution_count": 28,
   "id": "5ec83be8-aab0-4d9c-b256-de22b25c0390",
   "metadata": {},
   "outputs": [
    {
     "name": "stdout",
     "output_type": "stream",
     "text": [
      "[1, 2, 3]\n",
      "['a', 'b', 'c']\n"
     ]
    }
   ],
   "source": [
    "# 45)Write a Python program to unzip a list of tuples into individual lists. \n",
    "list_of_tuples = [(1, 'a'), (2, 'b'), (3, 'c')]\n",
    "lst_1,lst_2=zip(*list_of_tuples)\n",
    "lst1=list(lst_1)\n",
    "lst2=list(lst_2)\n",
    "print(lst1)\n",
    "print(lst2)"
   ]
  },
  {
   "cell_type": "code",
   "execution_count": 30,
   "id": "8eb4bfd6-a034-432d-9338-4957910e1571",
   "metadata": {},
   "outputs": [
    {
     "name": "stdout",
     "output_type": "stream",
     "text": [
      "{'a': 1, 'b': 2, 'c': 3}\n"
     ]
    }
   ],
   "source": [
    "# 46)Write a Python program to convert a list of tuples into a dictionary\n",
    "list_of_tuples = [('a', 1), ('b', 2), ('c', 3)]\n",
    "dict_from_tuples=dict(list_of_tuples)\n",
    "print(dict_from_tuples)"
   ]
  },
  {
   "cell_type": "code",
   "execution_count": null,
   "id": "3277532d-56ee-45ea-bbed-f629bcc5dd73",
   "metadata": {},
   "outputs": [],
   "source": [
    "# 47)How will you create a dictionary using tuples in python? \n",
    "    --> my_dict = dict(tuples_list) #This will create a dictionary using tuple"
   ]
  },
  {
   "cell_type": "code",
   "execution_count": 36,
   "id": "07e49ef0-0cfb-4de6-a81e-5763b362d77f",
   "metadata": {},
   "outputs": [
    {
     "name": "stdout",
     "output_type": "stream",
     "text": [
      "{'b': 1, 'c': 2, 'a': 3}\n",
      "{'a': 3, 'c': 2, 'b': 1}\n"
     ]
    }
   ],
   "source": [
    "# 48)Write a Python script to sort (ascending and descending) a dictionary by value. \n",
    "list_of_tuples = [('a', 1), ('b', 2), ('c', 3)]\n",
    "data = {'a': 3, 'b': 1, 'c': 2}\n",
    "ascending_d=dict(sorted(data.items(),key=lambda x:x[1]))\n",
    "print(assending_d)\n",
    "descending_d=dict(sorted(data.items(),key=lambda x:x[1],reverse=True))\n",
    "print(descending_d)"
   ]
  },
  {
   "cell_type": "code",
   "execution_count": 40,
   "id": "32a03a37-903c-4289-abd7-51805c19e9bd",
   "metadata": {},
   "outputs": [
    {
     "name": "stdout",
     "output_type": "stream",
     "text": [
      "{'a': 1, 'b': 3, 'c': 4, 'd': 5}\n"
     ]
    }
   ],
   "source": [
    "# 49)Write a Python script to concatenate following dictionaries to create a new one.\n",
    "dict1 = {'a': 1, 'b': 2}\n",
    "dict2 = {'b': 3, 'c': 4}\n",
    "dict3 = {'d': 5}\n",
    "merge_dict={**dict1,**dict2,**dict3}\n",
    "print(merge_dict)\n"
   ]
  },
  {
   "cell_type": "code",
   "execution_count": 42,
   "id": "6a55db11-6bab-4d04-8d1e-4b3c130212f4",
   "metadata": {},
   "outputs": [
    {
     "name": "stdout",
     "output_type": "stream",
     "text": [
      "Yes key is present in the data\n"
     ]
    }
   ],
   "source": [
    "# 50)Write a Python script to check if a given key already exists in a dictionary. \n",
    "data = {'a': 1, 'b': 2, 'c': 3}\n",
    "keys_to_check=\"b\"\n",
    "if keys_to_check in data:\n",
    "    print(\"Yes key is present in the data\")\n",
    "else:\n",
    "    print(\"No key is not present in the data\")"
   ]
  },
  {
   "cell_type": "code",
   "execution_count": null,
   "id": "b6616f56-670f-4b1c-b8b8-cbed93d82640",
   "metadata": {},
   "outputs": [],
   "source": [
    "# 51)How Do You Traverse Through a Dictionary Object in Python?\n",
    "  --> To traverse through a dictionary object in Python, you can use a for loop to iterate over its key-value pairs\n",
    "      d = {\"name\": \"keyur\", \"age\": 24, \"city\": \"ahmedabad\"}\n",
    "      for key, value in my_dict.items():\n",
    "         print(key, value)"
   ]
  },
  {
   "cell_type": "code",
   "execution_count": 44,
   "id": "f770d082-1938-4639-b06f-a915ceee50cc",
   "metadata": {},
   "outputs": [],
   "source": [
    "# 52)How Do You Check the Presence of a Key in A Dictionary?\n",
    "  --> To check if a key exists in a dictionary in Python, you can use the in operator.\n",
    "      key = \"key_1\"\n",
    "      if key in your_dict:\n",
    "          print(\"Key exists!\")"
   ]
  },
  {
   "cell_type": "code",
   "execution_count": 50,
   "id": "1ea968da-1ee7-42a7-b670-b46a8c3184b5",
   "metadata": {},
   "outputs": [
    {
     "name": "stdout",
     "output_type": "stream",
     "text": [
      "Dictionary with keys from 1 to 15 and their squares as values:\n",
      "{1: 1, 2: 4, 3: 9, 4: 16, 5: 25, 6: 36, 7: 49, 8: 64, 9: 81, 10: 100, 11: 121, 12: 144, 13: 169, 14: 196, 15: 225}\n"
     ]
    }
   ],
   "source": [
    "# 53)Write a Python script to print a dictionary where the keys are numbers between 1 and 15.\n",
    "dct={}\n",
    "for i in range(1,16):\n",
    "    dct[i]=i**2\n",
    "print(\"Dictionary with keys from 1 to 15 and their squares as values:\")\n",
    "print(dct)\n"
   ]
  },
  {
   "cell_type": "code",
   "execution_count": 55,
   "id": "e2a0c251-5975-44e9-98ba-77e81a56b982",
   "metadata": {},
   "outputs": [
    {
     "name": "stdout",
     "output_type": "stream",
     "text": [
      "present keys: ['a', 'b']\n",
      "absent keys: ['e', 'f']\n"
     ]
    }
   ],
   "source": [
    "# 54)Write a Python program to check multiple keys exists in a dictionary\n",
    "data = {'a': 1, 'b': 2, 'c': 3, 'd': 4}\n",
    "keys_to_check = ['a', 'b', 'e', 'f']\n",
    "p_k=[]\n",
    "a_k=[]\n",
    "for key in keys_to_check:\n",
    "    if key in data:\n",
    "        p_k.append(key)\n",
    "    else:\n",
    "        a_k.append(key)\n",
    "print(\"present keys:\",p_k)\n",
    "print(\"absent keys:\",a_k)"
   ]
  },
  {
   "cell_type": "code",
   "execution_count": 61,
   "id": "c13ef561-6a4d-4421-9040-a7738f9de008",
   "metadata": {},
   "outputs": [
    {
     "name": "stdout",
     "output_type": "stream",
     "text": [
      "{'a': 1, 'b': 2, 'c': 4, 'd': 5, 'e': 6}\n"
     ]
    }
   ],
   "source": [
    "# 55)Write a Python script to merge two Python dictionaries \n",
    "dict1 = {'a': 1, 'b': 2, 'c': 3}\n",
    "dict2 = {'c': 4, 'd': 5, 'e': 6}\n",
    "merge_dict={**dict1,**dict2}\n",
    "print(merge_dict)"
   ]
  },
  {
   "cell_type": "code",
   "execution_count": 65,
   "id": "2ec95347-e1ef-404f-8ab0-ff1be79c9794",
   "metadata": {},
   "outputs": [
    {
     "name": "stdout",
     "output_type": "stream",
     "text": [
      "{'a': 400, 'b': 400, 'c': 300, 'd': 400}\n"
     ]
    }
   ],
   "source": [
    "# 56)Write a Python program to map two lists into a dictionary \n",
    "keys = ['a', 'b', 'c', 'd']\n",
    "values = [400, 400, 300, 400]\n",
    "map_dict=dict(zip(keys,values))\n",
    "print(map_dict)"
   ]
  },
  {
   "cell_type": "code",
   "execution_count": 67,
   "id": "29b35c0d-cd0e-456b-87f8-f5c49b0c4cfe",
   "metadata": {},
   "outputs": [
    {
     "name": "stdout",
     "output_type": "stream",
     "text": [
      "[('d', 400), ('b', 300), ('f', 250)]\n"
     ]
    }
   ],
   "source": [
    "# 57)Write a Python program to find the highest 3 values in a dictionary\n",
    "data = {'a': 100, 'b': 300, 'c': 200, 'd': 400, 'e': 150, 'f': 250}\n",
    "x=sorted(data.items(),key=lambda x:x[1],reverse=True)\n",
    "top3_values=x[:3]\n",
    "print(top3_values)"
   ]
  },
  {
   "cell_type": "code",
   "execution_count": 78,
   "id": "68a25d5f-e15a-44a4-b5a6-b68623247688",
   "metadata": {},
   "outputs": [
    {
     "name": "stdout",
     "output_type": "stream",
     "text": [
      "{'item1': 1150, 'item2': 300}\n"
     ]
    }
   ],
   "source": [
    "# 58)Write a Python program to combine values in python list of dictionaries. \n",
    "# Sample data: [{'item': 'item1', 'amount': 400}, {'item': 'item2', 'amount': \n",
    "# 300}, o {'item': 'item1', 'amount': 750}] \n",
    "data = [{'item': 'item1', 'amount': 400}, \n",
    "        {'item': 'item2', 'amount': 300}, \n",
    "        {'item': 'item1', 'amount': 750}]\n",
    "dict={}\n",
    "for x in data:\n",
    "    if x[\"item\"] in dict:\n",
    "        dict[x[\"item\"]]+=x[\"amount\"]\n",
    "    else:\n",
    "        dict[x[\"item\"]]=x[\"amount\"]\n",
    "print(dict)"
   ]
  },
  {
   "cell_type": "code",
   "execution_count": 1,
   "id": "c8a44b92-bf7b-44ab-a263-d81601c78b8e",
   "metadata": {},
   "outputs": [
    {
     "name": "stdout",
     "output_type": "stream",
     "text": [
      "{'a': 1, 'b': 1, 'c': 1, 's': 1, 't': 1, 'r': 1, 'i': 1, 'n': 1, 'g': 1}\n"
     ]
    }
   ],
   "source": [
    "# 59)Write a Python program to create a dictionary from a string. Note: Track the count of the letters from the string\n",
    "string1 = \"abcstring\"\n",
    "letter_count = {}\n",
    "\n",
    "for letter in string1:\n",
    "    if letter in letter_count:\n",
    "        letter_count[letter] += 1\n",
    "    else:\n",
    "        letter_count[letter] = 1\n",
    "\n",
    "print(letter_count)"
   ]
  },
  {
   "cell_type": "code",
   "execution_count": 80,
   "id": "c4e108ce-5f1f-4467-8f74-9ef7c0b6e8e7",
   "metadata": {},
   "outputs": [
    {
     "name": "stdout",
     "output_type": "stream",
     "text": [
      "{'w': 1, '3': 1, 'r': 2, 'e': 2, 's': 1, 'o': 1, 'u': 1, 'c': 1}\n"
     ]
    }
   ],
   "source": [
    "# 60)Sample string:\n",
    "#  'w3resource' Expected output:\n",
    "# • {'3': 1,’s’: 1, 'r': 2, 'u': 1, 'w': 1, 'c': 1, 'e': 2, 'o': 1}\n",
    "s=\"w3resource\"\n",
    "d={}\n",
    "for x in s:\n",
    "    if x in d:\n",
    "        d[x]+=1\n",
    "    else:\n",
    "        d[x]=1\n",
    "print(d)"
   ]
  },
  {
   "cell_type": "code",
   "execution_count": 94,
   "id": "b7c8ba88-dbc4-4000-b881-d067f9393c85",
   "metadata": {},
   "outputs": [
    {
     "data": {
      "text/plain": [
       "120"
      ]
     },
     "execution_count": 94,
     "metadata": {},
     "output_type": "execute_result"
    }
   ],
   "source": [
    "# 61)Write a Python function to calculate the factorial of a number (a nonnegative integer) \n",
    "def fact(n):\n",
    "    facto=1\n",
    "    for i in range(1,n+1):\n",
    "        facto*=i\n",
    "    return facto\n",
    "fact(5)"
   ]
  },
  {
   "cell_type": "code",
   "execution_count": 1,
   "id": "a8eb0e4f-0847-4832-aa9f-86297840eb8c",
   "metadata": {},
   "outputs": [
    {
     "data": {
      "text/plain": [
       "True"
      ]
     },
     "execution_count": 1,
     "metadata": {},
     "output_type": "execute_result"
    }
   ],
   "source": [
    "# 62)Write a Python function to check whether a number is in a given range\n",
    "def is_in_range(num,l_b,u_b):\n",
    "    if l_b<=num<=u_b:\n",
    "        return True\n",
    "    else:\n",
    "        return False\n",
    "is_in_range(6,1,10)"
   ]
  },
  {
   "cell_type": "code",
   "execution_count": 11,
   "id": "ccbc54fe-96a9-4ce2-b53e-96a3d7f57a75",
   "metadata": {},
   "outputs": [
    {
     "data": {
      "text/plain": [
       "'it is a perfect number'"
      ]
     },
     "execution_count": 11,
     "metadata": {},
     "output_type": "execute_result"
    }
   ],
   "source": [
    "# 63)Write a Python function to check whether a number is perfect or not. \n",
    "def is_perfect(num):\n",
    "    sum=0\n",
    "    for i in range(1,num):\n",
    "        if num%i==0:\n",
    "            sum+=i\n",
    "    if sum==num:\n",
    "        return \"it is a perfect number\"\n",
    "    else:\n",
    "        return \"it is not a perfet number\"\n",
    "is_perfect(28)"
   ]
  },
  {
   "cell_type": "code",
   "execution_count": 13,
   "id": "f8a9cd9e-a03b-4ee2-860b-37b84598eae6",
   "metadata": {},
   "outputs": [
    {
     "data": {
      "text/plain": [
       "True"
      ]
     },
     "execution_count": 13,
     "metadata": {},
     "output_type": "execute_result"
    }
   ],
   "source": [
    "# 64)Write a Python function that checks whether a passed string is palindrome or not \n",
    "def is_palindrome(s):\n",
    "    return s==s[::-1]\n",
    "is_palindrome(\"madam\")"
   ]
  },
  {
   "cell_type": "code",
   "execution_count": null,
   "id": "2f3858b2-1723-4da9-b837-41b8b42d04c8",
   "metadata": {},
   "outputs": [],
   "source": [
    "# 65)How Many Basic Types of Functions Are Available in Python? \n",
    "  -->There are two basic types of functions in Python:\n",
    "\n",
    "     1.Built-in functions: Functions provided by Python (e.g., print(), len()).\n",
    "     2.User-defined functions: Functions created by the user using the def keyword."
   ]
  },
  {
   "cell_type": "code",
   "execution_count": 3,
   "id": "53844d2f-a067-4677-b989-b4e96f5bc219",
   "metadata": {},
   "outputs": [
    {
     "name": "stdout",
     "output_type": "stream",
     "text": [
      "14\n"
     ]
    }
   ],
   "source": [
    "# 66)How can you pick a random item from a list or tuple?\n",
    "# -->we can use the random.choice() function to pick a random item from a list or tuple\n",
    "import random\n",
    "l1=[12,13,12,14,15,16]\n",
    "item = random.choice(l1)\n",
    "print(item)\n"
   ]
  },
  {
   "cell_type": "code",
   "execution_count": 5,
   "id": "72f47a81-77a6-457e-8720-123f9c741e0d",
   "metadata": {},
   "outputs": [
    {
     "name": "stdout",
     "output_type": "stream",
     "text": [
      "29\n"
     ]
    }
   ],
   "source": [
    "# 67)How can you pick a random item from a range? \n",
    "# -->we can use random.randrange() to pick a random item from a range\n",
    "import random\n",
    "item = random.randrange(1, 30)\n",
    "print(item)"
   ]
  },
  {
   "cell_type": "code",
   "execution_count": 7,
   "id": "5d1c6426-3268-4256-82d9-6ed1cdba6383",
   "metadata": {},
   "outputs": [
    {
     "name": "stdout",
     "output_type": "stream",
     "text": [
      "23\n"
     ]
    }
   ],
   "source": [
    "# 68)How can you get a random number in python?\n",
    "# -->we can use random.randint() to get a random number in Python\n",
    "import random\n",
    "num = random.randint(1,60)\n",
    "print(num)\n",
    "\n"
   ]
  },
  {
   "cell_type": "code",
   "execution_count": null,
   "id": "21fd11a2-4eed-4e0e-b5c3-bdf5d1372ea8",
   "metadata": {},
   "outputs": [],
   "source": [
    "# 69)How will you set the starting value in generating random numbers?\n",
    "# -->we can set the starting value for generating random numbers using random.seed()\n",
    "import random\n",
    "random.seed(0)"
   ]
  },
  {
   "cell_type": "code",
   "execution_count": 9,
   "id": "0908ffff-16b4-46f5-9616-1d058d10e3c0",
   "metadata": {},
   "outputs": [
    {
     "name": "stdout",
     "output_type": "stream",
     "text": [
      "[12, 15, 16, 14, 12, 13]\n"
     ]
    }
   ],
   "source": [
    "# 70) How will you randomize the items of a list in place? \n",
    "# -->we can use random.shuffle() to randomize the items of a list in place\n",
    "import random\n",
    "random.shuffle(l1)\n",
    "print(l1)"
   ]
  },
  {
   "cell_type": "code",
   "execution_count": 13,
   "id": "1d7fa528-45ba-4273-926e-e1b3c86acb51",
   "metadata": {},
   "outputs": [],
   "source": [
    "# 71)What is File function in python? What are keywords to create and write file. \n",
    "# -->In Python, the file function is used to handle files, such as creating, reading, and writing files.\n",
    "\n",
    "# To create or write to a file, use the open() function with these keywords:\n",
    "# 1)\"w\": Write mode (creates a new file or overwrites if exists)\n",
    "# 2)\"a\": Append mode (adds to the file without overwriting)\n",
    "# 3)\"x\": Create mode (creates a file, fails if the file exists)\n",
    "file = open(\"example.txt\", \"w\")\n",
    "file.write(\"Hello World\")\n",
    "file.close()"
   ]
  },
  {
   "cell_type": "code",
   "execution_count": 2,
   "id": "3a0f3b49-dfb4-4c3f-905e-2c9078ad6c74",
   "metadata": {},
   "outputs": [
    {
     "name": "stdout",
     "output_type": "stream",
     "text": [
      "hello my name is keyur patel and i want to become a data analyst\n"
     ]
    }
   ],
   "source": [
    "# 72)Write a Python program to read an entire text file\n",
    "f=open(\"demo.txt\",\"r\")\n",
    "a=f.read()\n",
    "print(a)\n",
    "f.close()"
   ]
  },
  {
   "cell_type": "code",
   "execution_count": 4,
   "id": "c2a1c3fd-e74c-4edd-82dc-33e889a93a89",
   "metadata": {},
   "outputs": [
    {
     "name": "stdout",
     "output_type": "stream",
     "text": [
      "48\n"
     ]
    }
   ],
   "source": [
    "# 73)Write a Python program to append text to a file and display the text\n",
    "f1=open(\"demo.txt\",\"a\")\n",
    "a1=f1.write(\"\\n And i am currently working on jupyter notebook\")\n",
    "print(a1)\n",
    "f1.close()"
   ]
  },
  {
   "cell_type": "code",
   "execution_count": 5,
   "id": "a593879e-6664-4ca4-a394-fed0a1da9f4c",
   "metadata": {},
   "outputs": [
    {
     "name": "stdout",
     "output_type": "stream",
     "text": [
      "hello my name is keyur patel and i want to become a data analyst\n",
      "And i am currently working on jupyter notebook\n"
     ]
    }
   ],
   "source": [
    "# 74)Write a Python program to read first n lines of a file.\n",
    "n=2\n",
    "current_line=1\n",
    "with open(\"demo.txt\",\"r\") as f:\n",
    "    for i in f:\n",
    "        if current_line<=n:\n",
    "            print(i.strip())\n",
    "            current_line+=1\n",
    "        else:\n",
    "            break\n",
    "    "
   ]
  },
  {
   "cell_type": "code",
   "execution_count": 19,
   "id": "9f1c1995-406e-44f7-926a-3da193b0a90b",
   "metadata": {},
   "outputs": [
    {
     "name": "stdout",
     "output_type": "stream",
     "text": [
      "['you \\n', 'i am fine']\n",
      "you\n",
      "i am fine\n"
     ]
    }
   ],
   "source": [
    "# 75)Write a Python program to read last n lines of a file. \n",
    "with open(\"demo.txt\",\"r\") as f:\n",
    "        content=f.readlines()\n",
    "        print(content[-2:])\n",
    "for i in content[-2:]:\n",
    "    print(i.strip())"
   ]
  },
  {
   "cell_type": "code",
   "execution_count": 23,
   "id": "991aa9ca-4b97-410e-971f-a3dea6fa0c49",
   "metadata": {},
   "outputs": [
    {
     "name": "stdout",
     "output_type": "stream",
     "text": [
      "['hello my name is keyur patel and i want to become a data analyst', 'And i am currently working on jupyter notebook', 'my future goal is to become a data scientist', 'hey', 'how are', 'you', 'i am fine']\n"
     ]
    }
   ],
   "source": [
    "# 76)Write a Python program to read a file line by line and store it into a list\n",
    "l=[]\n",
    "with open(\"demo.txt\",\"r\") as f:\n",
    "    for i in f:\n",
    "        l.append(i.strip())\n",
    "    print(l)\n",
    "    "
   ]
  },
  {
   "cell_type": "code",
   "execution_count": 29,
   "id": "a96c6c4f-b118-4c73-bb28-b962f3f28415",
   "metadata": {},
   "outputs": [
    {
     "name": "stdout",
     "output_type": "stream",
     "text": [
      "hello my name is keyur patel and i want to become a data analyst\n",
      "And i am currently working on jupyter notebook \n",
      "my future goal is to become a data scientist\n",
      "hey\n",
      "how are \n",
      "you \n",
      "i am fine\n"
     ]
    }
   ],
   "source": [
    "# 77)Write a Python program to read a file line by line store it into a variable\n",
    "s=\"\"\n",
    "with open(\"demo.txt\",\"r\") as f:\n",
    "    for line in f:\n",
    "        s+=line\n",
    "print(s)"
   ]
  },
  {
   "cell_type": "code",
   "execution_count": 37,
   "id": "869a6ef8-1421-49f0-8150-9cd996e1595f",
   "metadata": {},
   "outputs": [
    {
     "name": "stdout",
     "output_type": "stream",
     "text": [
      "['hello my name is keyur patel and i want to become a data analyst\\n']\n"
     ]
    }
   ],
   "source": [
    "# 78)Write a python program to find the longest words. \n",
    "l_word=[]\n",
    "max_l=0\n",
    "with open(\"demo.txt\",\"r\") as f:\n",
    "    for w in f:\n",
    "        s=w.strip()\n",
    "        # print(s)\n",
    "        if len(w) > max_l:\n",
    "            max_l=len(w)\n",
    "            l_word=[w]\n",
    "        elif len(w)==max_l:\n",
    "            l_word=[w]\n",
    "print(l_word)"
   ]
  },
  {
   "cell_type": "code",
   "execution_count": 39,
   "id": "2e8fffff-a718-4617-b73d-e79fb9982190",
   "metadata": {},
   "outputs": [
    {
     "name": "stdout",
     "output_type": "stream",
     "text": [
      "total number of line is: 7\n"
     ]
    }
   ],
   "source": [
    "# 79)Write a Python program to count the number of lines in a text file. \n",
    "line=0\n",
    "with open(\"demo.txt\",\"r\") as f:\n",
    "    for l in f:\n",
    "        line+=1\n",
    "print(\"total number of line count is:\",line)\n",
    "    "
   ]
  },
  {
   "cell_type": "code",
   "execution_count": 49,
   "id": "3814321a-d776-4fea-8879-56fa881720d5",
   "metadata": {},
   "outputs": [
    {
     "name": "stdout",
     "output_type": "stream",
     "text": [
      "{'hello': 1, 'my': 2, 'name': 1, 'is': 2, 'keyur': 1, 'patel': 1, 'and': 1, 'i': 3, 'want': 1, 'to': 2, 'become': 2, 'a': 2, 'data': 2, 'analyst': 1, 'And': 1, 'am': 2, 'currently': 1, 'working': 1, 'on': 1, 'jupyter': 1, 'notebook': 1, 'future': 1, 'goal': 1, 'scientist': 1, 'hey': 1, 'how': 1, 'are': 1, 'you': 1, 'fine': 1}\n"
     ]
    }
   ],
   "source": [
    "# 80)Write a Python program to count the frequency of words in a file\n",
    "d={}\n",
    "with open(\"demo.txt\",\"r\") as f:\n",
    "    for word in f:\n",
    "        s=word.strip().split()\n",
    "        # print(s)\n",
    "        for i in s:\n",
    "            z=i.strip()\n",
    "            if z in d:\n",
    "                d[z]+=1\n",
    "            else:\n",
    "                d[z]=1\n",
    "print(d)"
   ]
  },
  {
   "cell_type": "code",
   "execution_count": 53,
   "id": "32ea4792-fb57-438b-90a9-3ae0675c23d8",
   "metadata": {},
   "outputs": [],
   "source": [
    "# 81)Write a Python program to write a list to a file\n",
    "my_list = [\"apple\", \"banana\", \"cherry\", \"date\", \"elderberry\"]\n",
    "with open(\"demo.txt\",\"a\") as f:\n",
    "    for i in my_list:\n",
    "        f.write(i + \"\\n\")"
   ]
  },
  {
   "cell_type": "code",
   "execution_count": 3,
   "id": "80da5b58-7c53-4338-b072-6732dd100111",
   "metadata": {},
   "outputs": [],
   "source": [
    "# 82)Write a Python program to copy the contents of a file to another file. \n",
    "def cpy_file(source, destination):\n",
    "    with open(source, 'r') as file1:\n",
    "        content = file1.read()\n",
    "    with open(destination, 'w') as file2:\n",
    "        file2.write(content)\n",
    "\n",
    "# Example usage\n",
    "cpy_file('demo.txt', 'example.txt')"
   ]
  },
  {
   "cell_type": "code",
   "execution_count": null,
   "id": "f4e68455-6340-42a4-a2e0-0ff51f55d3b3",
   "metadata": {},
   "outputs": [],
   "source": [
    "# 83)Explain Exception handling? What is an Error in Python?\n",
    "-->Exception Handling in Python is a way to manage errors that occur during the execution of a program.\n",
    "   It allows us to write code that can handle unexpected situations gracefully without crashing the program. \n",
    "   we use try, except, finally, and else blocks for this.\n",
    "\n",
    "   Error in Python refers to a problem that arises when the program is executed, such as syntax errors or runtime errors\n",
    "   For example, trying to divide by zero or accessing a nonexistent file will raise an error."
   ]
  },
  {
   "cell_type": "code",
   "execution_count": null,
   "id": "a3b0659f-9dd1-43dd-9dbb-6c86428e1b01",
   "metadata": {},
   "outputs": [],
   "source": [
    "# 84)How many except statements can a try-except block have? Name Some built-in exception classes:\n",
    "-->A try-except block can have multiple except statements to handle different exceptions.\n",
    "Some built-in exception classes in Python:\n",
    "1)ValueError\n",
    "2)TypeError\n",
    "3)IndexError\n",
    "4)KeyError\n",
    "5)FileNotFoundError"
   ]
  },
  {
   "cell_type": "code",
   "execution_count": 15,
   "id": "47c8c0fd-8c11-4a64-88d2-d601ed890cc9",
   "metadata": {},
   "outputs": [
    {
     "name": "stdout",
     "output_type": "stream",
     "text": [
      "Result is: 5.0\n"
     ]
    }
   ],
   "source": [
    "# 85)When will the else part of try-except-else be executed?\n",
    "# -->The else part of a try-except-else block will be executed if the code in the try block runs without any exception\n",
    "# ex:\n",
    "try:\n",
    "    result = 10 / 2\n",
    "except ZeroDivisionError:\n",
    "    print(\"Division by zero!\")\n",
    "else:\n",
    "    print(\"Result is:\", result) "
   ]
  },
  {
   "cell_type": "code",
   "execution_count": 19,
   "id": "f62053bc-5638-4e43-ac06-539f8b967ce6",
   "metadata": {},
   "outputs": [
    {
     "name": "stdout",
     "output_type": "stream",
     "text": [
      "An error occurred: division by zero\n"
     ]
    }
   ],
   "source": [
    "# 86)Can one block of except statements handle multiple exception?\n",
    "# -->Yes, one block of except statements can handle multiple exceptions by using a tuple.\n",
    "try:\n",
    "    result = 10 / 0\n",
    "except (ZeroDivisionError, ValueError) as e:\n",
    "    print(\"An error occurred:\", e)"
   ]
  },
  {
   "cell_type": "code",
   "execution_count": 21,
   "id": "d45c3f01-4ade-40e4-8b32-a59b26e01cf2",
   "metadata": {},
   "outputs": [
    {
     "name": "stdout",
     "output_type": "stream",
     "text": [
      "This will always run.\n"
     ]
    }
   ],
   "source": [
    "# 87)When is the finally block executed?\n",
    "# -->The finally block is executed after the try and except blocks, regardless of whether an exception was raised\n",
    "#    or not. It is used for cleanup actions, like closing files or releasing resources\n",
    "# ex:\n",
    "try:\n",
    "    result = 10 / 2\n",
    "except ZeroDivisionError:\n",
    "    print(\"Division by zero!\")\n",
    "finally:\n",
    "    print(\"This will always run.\")\n"
   ]
  },
  {
   "cell_type": "code",
   "execution_count": null,
   "id": "d0eed481-9613-4f99-9116-464005bb0c80",
   "metadata": {},
   "outputs": [],
   "source": [
    "# 88)What happens when „1‟== 1 is executed? \n",
    "-->When '1' == 1 is executed, it evaluates to False because the left side is a string and the right side is an integer.\n",
    "   Python does not consider them equal due to their different data types."
   ]
  },
  {
   "cell_type": "code",
   "execution_count": 25,
   "id": "b75edacd-ec9f-4d19-b153-a860c2f7ae94",
   "metadata": {},
   "outputs": [
    {
     "name": "stdout",
     "output_type": "stream",
     "text": [
      "Cannot divide by zero\n",
      "This will always run.\n"
     ]
    }
   ],
   "source": [
    "# 89)How Do You Handle Exceptions with Try/Except/Finally in Python?Explain with coding snippets\n",
    "# -->1)try: Place the code that might raise an exception.\n",
    "#    2)except: Handle the exception if it occurs.\n",
    "#    3)finally: Execute code that should run no matter what, usually for cleanup.\n",
    "# ex:\n",
    "try:\n",
    "    result = 10 / 0  \n",
    "except ZeroDivisionError:\n",
    "    print(\"Cannot divide by zero\")\n",
    "finally:\n",
    "    print(\"This will always run.\")  "
   ]
  },
  {
   "cell_type": "code",
   "execution_count": 1,
   "id": "51eeac29-fa4b-4c71-ab50-0bb90097a6ff",
   "metadata": {},
   "outputs": [
    {
     "name": "stdin",
     "output_type": "stream",
     "text": [
      "Enter an odd number:  22\n"
     ]
    },
    {
     "name": "stdout",
     "output_type": "stream",
     "text": [
      "This is not an odd number!\n"
     ]
    }
   ],
   "source": [
    "# 90)Write python program that user to enter only odd numbers, else will raise an exception.\n",
    "def chk_odd_no():\n",
    "    try:\n",
    "        number = int(input(\"Enter an odd number: \"))\n",
    "        if number % 2 == 0:\n",
    "            raise ValueError(\"This is not an odd number!\")\n",
    "        else:\n",
    "            print(\"You entered an odd number.\")\n",
    "    except ValueError as e:\n",
    "        print(e)\n",
    "chk_odd_no()\n"
   ]
  }
 ],
 "metadata": {
  "kernelspec": {
   "display_name": "Python 3 (ipykernel)",
   "language": "python",
   "name": "python3"
  },
  "language_info": {
   "codemirror_mode": {
    "name": "ipython",
    "version": 3
   },
   "file_extension": ".py",
   "mimetype": "text/x-python",
   "name": "python",
   "nbconvert_exporter": "python",
   "pygments_lexer": "ipython3",
   "version": "3.11.7"
  }
 },
 "nbformat": 4,
 "nbformat_minor": 5
}
